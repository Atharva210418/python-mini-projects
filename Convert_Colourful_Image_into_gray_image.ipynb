{
  "nbformat": 4,
  "nbformat_minor": 0,
  "metadata": {
    "colab": {
      "provenance": [],
      "authorship_tag": "ABX9TyMx+E8HFu7OSfoHLZfGRdXZ"
    },
    "kernelspec": {
      "name": "python3",
      "display_name": "Python 3"
    }
  },
  "cells": [
    {
      "cell_type": "code",
      "metadata": {
        "id": "B9pwifuIRjny"
      },
      "source": [],
      "execution_count": 1,
      "outputs": []
    },
    {
      "cell_type": "code",
      "metadata": {
        "id": "2jjwVfaKRm1R"
      },
      "source": [
        "# Image conversion project coloured image to grayscale\n",
        "import cv2\n",
        "\n",
        "from google.colab.patches import cv2_imshow\n",
        "\n",
        "\n",
        "path= input(\"Enter the path and name of the image===\")\n",
        "print(\"You entered this===\",path)\n",
        "\n",
        "\n",
        "\n",
        "\n",
        "\n",
        "\n",
        "#Now read image\n",
        "\n",
        "img1=cv2.imread(path,0)    #convert image into grayscale using parameter as 0\n",
        "#img1= cv2.resize(img1,(560,700))\n",
        "cv2_imshow(img1)\n",
        "\n",
        "k=cv2.waitkey(0)\n",
        "\n",
        "if k==ord(\"s\"):\n",
        "  cv2.imwrite(\"output.png\",img1)\n",
        "else:\n",
        "  cv2.destroyAllWindows()\n"
      ],
      "execution_count": null,
      "outputs": []
    }
  ]
}